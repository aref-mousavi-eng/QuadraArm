{
 "cells": [
  {
   "cell_type": "code",
   "execution_count": 3,
   "metadata": {
    "collapsed": true,
    "ExecuteTime": {
     "end_time": "2024-05-19T12:09:23.993021Z",
     "start_time": "2024-05-19T12:09:23.669208500Z"
    }
   },
   "outputs": [],
   "source": [
    "from QuadraArm.robotic_arm import Arm4DOF\n",
    "from QuadraArm.utility import *\n",
    "\n",
    "arm = Arm4DOF()"
   ]
  },
  {
   "cell_type": "markdown",
   "source": [
    "## Section 1: Connect To the Robot"
   ],
   "metadata": {
    "collapsed": false
   }
  },
  {
   "cell_type": "code",
   "execution_count": 4,
   "outputs": [],
   "source": [
    "arm.connect('COM9')"
   ],
   "metadata": {
    "collapsed": false,
    "ExecuteTime": {
     "end_time": "2024-05-19T12:09:24.161722800Z",
     "start_time": "2024-05-19T12:09:23.995020100Z"
    }
   }
  },
  {
   "cell_type": "code",
   "execution_count": 5,
   "outputs": [],
   "source": [
    "arm.init()"
   ],
   "metadata": {
    "collapsed": false,
    "ExecuteTime": {
     "end_time": "2024-05-19T12:09:25.024230Z",
     "start_time": "2024-05-19T12:09:24.674430200Z"
    }
   }
  },
  {
   "cell_type": "code",
   "execution_count": 6,
   "outputs": [],
   "source": [
    "arm.go_to_home()"
   ],
   "metadata": {
    "collapsed": false,
    "ExecuteTime": {
     "end_time": "2024-05-19T12:09:25.108181800Z",
     "start_time": "2024-05-19T12:09:25.026230900Z"
    }
   }
  },
  {
   "cell_type": "code",
   "execution_count": 7,
   "outputs": [
    {
     "data": {
      "text/plain": "[0, -1, 0, 0]"
     },
     "execution_count": 7,
     "metadata": {},
     "output_type": "execute_result"
    }
   ],
   "source": [
    "arm.read_thetas()"
   ],
   "metadata": {
    "collapsed": false,
    "ExecuteTime": {
     "end_time": "2024-05-05T13:38:48.230966900Z",
     "start_time": "2024-05-05T13:38:48.141018100Z"
    }
   }
  },
  {
   "cell_type": "code",
   "execution_count": 9,
   "outputs": [
    {
     "data": {
      "text/plain": "[30.485, 0.0, 26.485]"
     },
     "execution_count": 9,
     "metadata": {},
     "output_type": "execute_result"
    }
   ],
   "source": [
    "arm.go_to_thetas([0, 0, 45, -45])"
   ],
   "metadata": {
    "collapsed": false,
    "ExecuteTime": {
     "end_time": "2024-05-05T13:38:54.015764700Z",
     "start_time": "2024-05-05T13:38:53.932813400Z"
    }
   }
  },
  {
   "cell_type": "code",
   "execution_count": 7,
   "outputs": [],
   "source": [
    "arm.close_port()"
   ],
   "metadata": {
    "collapsed": false,
    "ExecuteTime": {
     "end_time": "2024-05-05T14:14:47.806491800Z",
     "start_time": "2024-05-05T14:14:47.746526500Z"
    }
   }
  },
  {
   "cell_type": "markdown",
   "source": [
    "## Section 2: Forward Kinematics"
   ],
   "metadata": {
    "collapsed": false
   }
  },
  {
   "cell_type": "code",
   "execution_count": 86,
   "outputs": [],
   "source": [
    "thetas = [45, 0, 90, -90]"
   ],
   "metadata": {
    "collapsed": false,
    "ExecuteTime": {
     "end_time": "2024-04-14T14:24:17.920755400Z",
     "start_time": "2024-04-14T14:24:17.895752700Z"
    }
   }
  },
  {
   "cell_type": "code",
   "execution_count": 87,
   "outputs": [
    {
     "name": "stdout",
     "output_type": "stream",
     "text": [
      "X_ee: 14.092cm,  Y_ee: 19.092cm,  Z_ee: 30.0cm\n"
     ]
    }
   ],
   "source": [
    "EE = arm.forward_kinematic(thetas)\n",
    "print(f'X_ee: {EE[0]}cm,  Y_ee: {EE[1]}cm,  Z_ee: {EE[2]}cm')"
   ],
   "metadata": {
    "collapsed": false,
    "ExecuteTime": {
     "end_time": "2024-04-14T14:24:19.408076600Z",
     "start_time": "2024-04-14T14:24:19.366102100Z"
    }
   }
  },
  {
   "cell_type": "code",
   "execution_count": 13,
   "outputs": [],
   "source": [
    "arm.go_to_thetas(thetas)"
   ],
   "metadata": {
    "collapsed": false,
    "ExecuteTime": {
     "end_time": "2024-04-14T11:49:58.642539600Z",
     "start_time": "2024-04-14T11:49:58.594566800Z"
    }
   }
  },
  {
   "cell_type": "markdown",
   "source": [
    "## Section 3: Inverse Kinematics"
   ],
   "metadata": {
    "collapsed": false
   }
  },
  {
   "cell_type": "code",
   "execution_count": 67,
   "outputs": [
    {
     "name": "stdout",
     "output_type": "stream",
     "text": [
      "ans1: [0.0, 17.331, 27.266, -44.597]\n",
      "ans2: [0.0, 44.597, -27.266, -17.331]\n"
     ]
    }
   ],
   "source": [
    "ans1, ans2 = arm.inverse_kinematic([30, 0, 30])\n",
    "if len(ans1):\n",
    "    print(f'ans1: {ans1}')\n",
    "if len(ans2):\n",
    "    print(f'ans2: {ans2}')"
   ],
   "metadata": {
    "collapsed": false,
    "ExecuteTime": {
     "end_time": "2024-04-14T14:21:38.945437100Z",
     "start_time": "2024-04-14T14:21:38.906460700Z"
    }
   }
  },
  {
   "cell_type": "code",
   "execution_count": 60,
   "outputs": [
    {
     "name": "stdout",
     "output_type": "stream",
     "text": [
      "ans1: [42.797, 0.336, 34.937, -35.273]\n",
      "ans2: [42.797, 35.273, -34.937, -0.336]\n"
     ]
    }
   ],
   "source": [
    "ans1, ans2 = arm.inverse_kinematic([22, 25, 25])\n",
    "if len(ans1):\n",
    "    print(f'ans1: {ans1}')\n",
    "if len(ans2):\n",
    "    print(f'ans2: {ans2}')"
   ],
   "metadata": {
    "collapsed": false,
    "ExecuteTime": {
     "end_time": "2024-04-14T14:20:35.100666500Z",
     "start_time": "2024-04-14T14:20:35.074679200Z"
    }
   }
  },
  {
   "cell_type": "code",
   "execution_count": 90,
   "outputs": [
    {
     "name": "stdout",
     "output_type": "stream",
     "text": [
      "ans1: [45.0, 0.0, 89.945, -89.945]\n",
      "ans2: [45.0, 89.945, -89.945, -0.0]\n"
     ]
    }
   ],
   "source": [
    "ans1, ans2 = arm.inverse_kinematic([14.1, 19.1, 30])\n",
    "if len(ans1):\n",
    "    print(f'ans1: {ans1}')\n",
    "if len(ans2):\n",
    "    print(f'ans2: {ans2}')"
   ],
   "metadata": {
    "collapsed": false,
    "ExecuteTime": {
     "end_time": "2024-04-14T14:24:57.754744Z",
     "start_time": "2024-04-14T14:24:57.713767200Z"
    }
   }
  },
  {
   "cell_type": "code",
   "execution_count": 97,
   "outputs": [
    {
     "data": {
      "text/plain": "[0.0, 44.597, -27.266, -17.331]"
     },
     "execution_count": 97,
     "metadata": {},
     "output_type": "execute_result"
    }
   ],
   "source": [
    "arm.go_to_positions([30, 0, 30])"
   ],
   "metadata": {
    "collapsed": false,
    "ExecuteTime": {
     "end_time": "2024-04-14T14:27:30.186452800Z",
     "start_time": "2024-04-14T14:27:30.115494900Z"
    }
   }
  },
  {
   "cell_type": "code",
   "execution_count": 98,
   "outputs": [
    {
     "data": {
      "text/plain": "[42.797, 35.273, -34.937, -0.336]"
     },
     "execution_count": 98,
     "metadata": {},
     "output_type": "execute_result"
    }
   ],
   "source": [
    "arm.go_to_positions([22, 25, 25])"
   ],
   "metadata": {
    "collapsed": false,
    "ExecuteTime": {
     "end_time": "2024-04-14T14:27:38.675624700Z",
     "start_time": "2024-04-14T14:27:38.598652200Z"
    }
   }
  },
  {
   "cell_type": "code",
   "execution_count": 99,
   "outputs": [
    {
     "data": {
      "text/plain": "[45.0, 0.0, 89.945, -89.945]"
     },
     "execution_count": 99,
     "metadata": {},
     "output_type": "execute_result"
    }
   ],
   "source": [
    "arm.go_to_positions([14.1, 19.1, 30])"
   ],
   "metadata": {
    "collapsed": false,
    "ExecuteTime": {
     "end_time": "2024-04-14T14:27:44.665981Z",
     "start_time": "2024-04-14T14:27:44.589026300Z"
    }
   }
  },
  {
   "cell_type": "code",
   "execution_count": 8,
   "outputs": [
    {
     "name": "stdout",
     "output_type": "stream",
     "text": [
      "E.E. is out of range, please choose a point inside the workspace\n"
     ]
    }
   ],
   "source": [
    "arm.go_to_positions([30, -15, 30])"
   ],
   "metadata": {
    "collapsed": false,
    "ExecuteTime": {
     "end_time": "2024-04-14T14:32:21.710160900Z",
     "start_time": "2024-04-14T14:32:21.668186300Z"
    }
   }
  },
  {
   "cell_type": "markdown",
   "source": [
    "# Section 4: Velocity kinematics"
   ],
   "metadata": {
    "collapsed": false
   }
  },
  {
   "cell_type": "code",
   "execution_count": 18,
   "outputs": [
    {
     "data": {
      "text/plain": "[22.5, 25, 25]"
     },
     "execution_count": 18,
     "metadata": {},
     "output_type": "execute_result"
    }
   ],
   "source": [
    "x1 = [22, 25, 25]\n",
    "delta_x = [0.5 ,0 , 0]\n",
    "x2 = add_lists(x1, delta_x)\n",
    "x2"
   ],
   "metadata": {
    "collapsed": false,
    "ExecuteTime": {
     "end_time": "2024-05-05T14:17:00.367457500Z",
     "start_time": "2024-05-05T14:17:00.302496600Z"
    }
   }
  },
  {
   "cell_type": "code",
   "execution_count": 19,
   "outputs": [
    {
     "data": {
      "text/plain": "[42.797, 35.273, -34.937, -0.336]"
     },
     "execution_count": 19,
     "metadata": {},
     "output_type": "execute_result"
    }
   ],
   "source": [
    "q0 = arm.go_to_positions(x1)\n",
    "q0"
   ],
   "metadata": {
    "collapsed": false,
    "ExecuteTime": {
     "end_time": "2024-05-05T14:17:02.473019400Z",
     "start_time": "2024-05-05T14:17:02.387067400Z"
    }
   }
  },
  {
   "cell_type": "code",
   "execution_count": 20,
   "outputs": [
    {
     "data": {
      "text/plain": "[42.274, 31.943, -28.834, -3.11]"
     },
     "execution_count": 20,
     "metadata": {},
     "output_type": "execute_result"
    }
   ],
   "source": [
    "q1 = arm.go_to_positions(x2)\n",
    "q1"
   ],
   "metadata": {
    "collapsed": false,
    "ExecuteTime": {
     "end_time": "2024-05-05T14:17:03.753562200Z",
     "start_time": "2024-05-05T14:17:03.666612600Z"
    }
   }
  },
  {
   "cell_type": "code",
   "execution_count": 21,
   "outputs": [
    {
     "data": {
      "text/plain": "[-0.5229999999999961, -3.330000000000002, 6.102999999999998, -2.774]"
     },
     "execution_count": 21,
     "metadata": {},
     "output_type": "execute_result"
    }
   ],
   "source": [
    "delta_q = subtract_lists(q1, q0)\n",
    "delta_q"
   ],
   "metadata": {
    "collapsed": false,
    "ExecuteTime": {
     "end_time": "2024-05-05T14:17:05.757284Z",
     "start_time": "2024-05-05T14:17:05.723300800Z"
    }
   }
  },
  {
   "cell_type": "code",
   "execution_count": 22,
   "outputs": [
    {
     "data": {
      "text/plain": "[0.521, 0.025, 0.011]"
     },
     "execution_count": 22,
     "metadata": {},
     "output_type": "execute_result"
    }
   ],
   "source": [
    "arm.direct_velocity_kinematic(delta_q, q0)"
   ],
   "metadata": {
    "collapsed": false,
    "ExecuteTime": {
     "end_time": "2024-05-05T14:17:07.221890Z",
     "start_time": "2024-05-05T14:17:07.178911100Z"
    }
   }
  },
  {
   "cell_type": "code",
   "execution_count": 23,
   "outputs": [
    {
     "data": {
      "text/plain": "[-0.529, -3.035, 3.143, 1.787]"
     },
     "execution_count": 23,
     "metadata": {},
     "output_type": "execute_result"
    }
   ],
   "source": [
    "dq = arm.inverse_velocity_kinematic(delta_x, q0)\n",
    "dq"
   ],
   "metadata": {
    "collapsed": false,
    "ExecuteTime": {
     "end_time": "2024-05-05T14:17:11.132805500Z",
     "start_time": "2024-05-05T14:17:11.068842900Z"
    }
   }
  },
  {
   "cell_type": "code",
   "execution_count": 24,
   "outputs": [],
   "source": [
    "q2_secondary = add_lists(q0, dq)"
   ],
   "metadata": {
    "collapsed": false,
    "ExecuteTime": {
     "end_time": "2024-05-05T14:17:12.581671100Z",
     "start_time": "2024-05-05T14:17:12.540697500Z"
    }
   }
  },
  {
   "cell_type": "code",
   "execution_count": 25,
   "outputs": [
    {
     "data": {
      "text/plain": "[22.485, 24.981, 24.99]"
     },
     "execution_count": 25,
     "metadata": {},
     "output_type": "execute_result"
    }
   ],
   "source": [
    "arm.go_to_thetas(q2_secondary)"
   ],
   "metadata": {
    "collapsed": false,
    "ExecuteTime": {
     "end_time": "2024-05-05T14:17:14.106105800Z",
     "start_time": "2024-05-05T14:17:14.032149300Z"
    }
   }
  },
  {
   "cell_type": "markdown",
   "source": [
    "# Section 5: Trajectory Planning via Linear Interpolation"
   ],
   "metadata": {
    "collapsed": false
   }
  },
  {
   "cell_type": "code",
   "execution_count": 7,
   "outputs": [],
   "source": [
    "q_start = [-45, 45, -30, -30]\n",
    "x_end = [20, 20, 36]\n",
    "alpha = 1"
   ],
   "metadata": {
    "collapsed": false,
    "ExecuteTime": {
     "end_time": "2024-05-12T14:15:09.657261800Z",
     "start_time": "2024-05-12T14:15:09.568310500Z"
    }
   }
  },
  {
   "cell_type": "code",
   "execution_count": 8,
   "outputs": [
    {
     "data": {
      "text/plain": "[19.441, -24.441, 25.709]"
     },
     "execution_count": 8,
     "metadata": {},
     "output_type": "execute_result"
    }
   ],
   "source": [
    "arm.go_to_thetas(q_start)"
   ],
   "metadata": {
    "collapsed": false,
    "ExecuteTime": {
     "end_time": "2024-05-12T14:15:11.712431400Z",
     "start_time": "2024-05-12T14:15:11.627478700Z"
    }
   }
  },
  {
   "cell_type": "code",
   "execution_count": 10,
   "outputs": [
    {
     "name": "stdout",
     "output_type": "stream",
     "text": [
      "step: 1, error: 44.612\n",
      "step: 2, error: 43.607\n",
      "step: 3, error: 42.604\n",
      "step: 4, error: 41.603\n",
      "step: 5, error: 40.604\n",
      "step: 6, error: 39.607\n",
      "step: 7, error: 38.61\n",
      "step: 8, error: 37.614\n",
      "step: 9, error: 36.619\n",
      "step: 10, error: 35.624\n",
      "step: 11, error: 34.629\n",
      "step: 12, error: 33.636\n",
      "step: 13, error: 32.641\n",
      "step: 14, error: 31.647\n",
      "step: 15, error: 30.654\n",
      "step: 16, error: 29.659\n",
      "step: 17, error: 28.665\n",
      "step: 18, error: 27.67\n",
      "step: 19, error: 26.675\n",
      "step: 20, error: 25.679\n",
      "step: 21, error: 24.683\n",
      "step: 22, error: 23.686\n",
      "step: 23, error: 22.688\n",
      "step: 24, error: 21.69\n",
      "step: 25, error: 20.69\n",
      "step: 26, error: 19.69\n",
      "step: 27, error: 18.689\n",
      "step: 28, error: 17.687\n",
      "step: 29, error: 16.685\n",
      "step: 30, error: 15.683\n",
      "step: 31, error: 14.68\n",
      "step: 32, error: 13.675\n",
      "step: 33, error: 12.672\n",
      "step: 34, error: 11.668\n",
      "step: 35, error: 10.665\n",
      "step: 36, error: 9.661\n",
      "step: 37, error: 8.66\n",
      "step: 38, error: 7.658\n",
      "step: 39, error: 6.657\n",
      "step: 40, error: 5.657\n",
      "step: 41, error: 4.659\n",
      "step: 42, error: 3.664\n",
      "step: 43, error: 2.671\n",
      "step: 44, error: 1.684\n",
      "step: 45, error: 0.703\n"
     ]
    }
   ],
   "source": [
    "arm.go_in_direct_path(q_start, x_end, alpha, epsilon=1, delay_1cm=0.05)"
   ],
   "metadata": {
    "collapsed": false,
    "ExecuteTime": {
     "end_time": "2024-05-12T14:15:27.952289200Z",
     "start_time": "2024-05-12T14:15:22.413405200Z"
    }
   }
  },
  {
   "cell_type": "markdown",
   "source": [
    "# Section 6: Motion Imitation via Demonstration"
   ],
   "metadata": {
    "collapsed": false
   }
  },
  {
   "cell_type": "code",
   "execution_count": 15,
   "outputs": [],
   "source": [
    "arm.torques(0,0,0,0)"
   ],
   "metadata": {
    "collapsed": false,
    "ExecuteTime": {
     "end_time": "2024-05-19T12:15:50.677048600Z",
     "start_time": "2024-05-19T12:15:50.571107Z"
    }
   }
  },
  {
   "cell_type": "code",
   "execution_count": 16,
   "outputs": [],
   "source": [
    "path_list = arm.record_path(sample_rate=10)"
   ],
   "metadata": {
    "collapsed": false,
    "ExecuteTime": {
     "end_time": "2024-05-19T12:16:17.410157500Z",
     "start_time": "2024-05-19T12:15:54.918729100Z"
    }
   }
  },
  {
   "cell_type": "code",
   "execution_count": 17,
   "outputs": [],
   "source": [
    "arm.torques(1,1,1,1)"
   ],
   "metadata": {
    "collapsed": false,
    "ExecuteTime": {
     "end_time": "2024-05-19T12:16:21.580971300Z",
     "start_time": "2024-05-19T12:16:21.518006900Z"
    }
   }
  },
  {
   "cell_type": "code",
   "execution_count": 20,
   "outputs": [
    {
     "data": {
      "text/plain": "[33.821, -2.715, 17.685]"
     },
     "execution_count": 20,
     "metadata": {},
     "output_type": "execute_result"
    }
   ],
   "source": [
    "arm.go_to_thetas(path_list[0])"
   ],
   "metadata": {
    "collapsed": false,
    "ExecuteTime": {
     "end_time": "2024-05-19T12:17:26.730222700Z",
     "start_time": "2024-05-19T12:17:26.657263900Z"
    }
   }
  },
  {
   "cell_type": "code",
   "execution_count": 21,
   "outputs": [],
   "source": [
    "arm.travel_path(path_list, sample_rate=10, dilation=0.5)"
   ],
   "metadata": {
    "collapsed": false,
    "ExecuteTime": {
     "end_time": "2024-05-19T12:18:12.152761800Z",
     "start_time": "2024-05-19T12:17:36.191656900Z"
    }
   }
  },
  {
   "cell_type": "code",
   "execution_count": null,
   "outputs": [],
   "source": [],
   "metadata": {
    "collapsed": false
   }
  }
 ],
 "metadata": {
  "kernelspec": {
   "display_name": "Python 3",
   "language": "python",
   "name": "python3"
  },
  "language_info": {
   "codemirror_mode": {
    "name": "ipython",
    "version": 2
   },
   "file_extension": ".py",
   "mimetype": "text/x-python",
   "name": "python",
   "nbconvert_exporter": "python",
   "pygments_lexer": "ipython2",
   "version": "2.7.6"
  }
 },
 "nbformat": 4,
 "nbformat_minor": 0
}
